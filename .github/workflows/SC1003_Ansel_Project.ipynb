{
 "cells": [
  {
   "cell_type": "code",
   "execution_count": null,
   "metadata": {},
   "outputs": [],
   "source": [
    "import ipywidgets as widgets"
   ]
  },
  {
   "cell_type": "code",
   "execution_count": null,
   "metadata": {},
   "outputs": [],
   "source": [
    "# Turning the raw data into a useable format\n",
    "students = []\n",
    "output = []\n",
    "with open(\"records.csv\", \"r\") as file:\n",
    "    for row in file:\n",
    "        students.append(row.strip().split(\",\"))\n",
    "header = students[0] + [\"Team Assigned\"]\n",
    "students = students[1:]\n",
    "students_split = dict()\n",
    "\n",
    "for i in students:\n",
    "    if i[0] in students_split.keys():\n",
    "        students_split[i[0]].append(i)\n",
    "    else:\n",
    "        students_split[i[0]] = [i]"
   ]
  },
  {
   "cell_type": "code",
   "execution_count": null,
   "metadata": {},
   "outputs": [],
   "source": [
    "# Visualising data\n",
    "\n",
    "for i in set([i[2] for i in students]):\n",
    "    print( f'{i} (HIGH): {[i[2] for i in students if float(i[5]) >= avg].count(i)}',\n",
    "           f'(LOW): {[i[2] for i in students if float(i[5]) <= avg].count(i)}',\n",
    "           f'(Male): {[i[2] for i in students if i[4] == \"Male\"].count(i)}',\n",
    "           f'(Female): {[i[2] for i in students if i[4] == \"Female\"].count(i)}',\n",
    "           f'{i} (Total): {[i[2] for i in students].count(i)}')\n",
    "print()\n",
    "for i in set([i[4] for i in students]):\n",
    "    print( f'{i} (HIGH): {[i[4] for i in students if float(i[5]) >= avg].count(i)}',\n",
    "           f'(LOW): {[i[4] for i in students if float(i[5]) <= avg].count(i)}')\n",
    "\n",
    "for i, j in students_split.items():\n",
    "    print(f'{i}: {len(set(k[2] for k in j))} Male: {sum(1 for a in j if a[-2] == \"Male\")} Female: {sum(1 for a in j if a[-2] == \"Female\")}')"
   ]
  },
  {
   "cell_type": "code",
   "execution_count": null,
   "metadata": {},
   "outputs": [],
   "source": [
    "output = []\n",
    "w = widgets.BoundedIntText(\n",
    "    value=5,\n",
    "    min=4,\n",
    "    max=10,\n",
    "    step=1,\n",
    "    description=\"Group Size:\",\n",
    "    disabled=False\n",
    ")\n",
    "group_size = w.value"
   ]
  },
  {
   "cell_type": "code",
   "execution_count": null,
   "metadata": {},
   "outputs": [],
   "source": [
    "group_size = 5\n",
    "\n",
    "avg = sum([float(i[5]) for i in students])/6000\n",
    "\n",
    "for tut_grp, data in students_split.items():\n",
    "\n",
    "    avg_gpa     = sum([float(i[5]) for i in data]) / 50\n",
    "    male_high   = sorted([i for i in data if i[4] == \"Male\"   and float(i[5]) >= avg], key=lambda x: x[5], reverse=True)\n",
    "    male_low    = sorted([i for i in data if i[4] == \"Male\"   and float(i[5]) <  avg], key=lambda x: x[5])\n",
    "    female_high = sorted([i for i in data if i[4] == \"Female\" and float(i[5]) >= avg], key=lambda x: x[5], reverse=True)\n",
    "    female_low  = sorted([i for i in data if i[4] == \"Female\" and float(i[5]) <  avg], key=lambda x: x[5])\n",
    "    schools     = dict([(j, [i[2] for i in data].count(j)) for j in set([i[2] for i in data])])\n",
    " \n",
    "    project_group = 1\n",
    "    categories = [male_high, female_high, male_low, female_low]\n",
    "\n",
    "    grp_count = len(data)//group_size\n",
    "\n",
    "    for entry in range(len(data)):\n",
    "\n",
    "        pos = entry%group_size\n",
    "        if pos == 0:\n",
    "            chosen = []\n",
    "            \n",
    "        project_group = entry//group_size + 1\n",
    "\n",
    "        if pos >= group_size - group_size%len(categories):\n",
    "            pos = [len(i) for i in categories].index(max([len(i) for i in categories]))\n",
    "        else:\n",
    "            pos = pos%len(categories)\n",
    "        category = categories[pos]\n",
    "\n",
    "        filtered = [i for i in category if i[2] not in chosen]\n",
    "        if len(filtered) == 0:\n",
    "            filtered = category\n",
    "        counts = [schools[i[2]] for i in filtered]\n",
    "        person = filtered[counts.index(max(counts))]\n",
    "\n",
    "        schools[person[2]] -= 1\n",
    "        category.remove(person)\n",
    "        chosen.append(person[2])\n",
    "\n",
    "        if len(category) == 0:\n",
    "            categories.pop(pos)\n",
    "        else:\n",
    "            categories[pos] = category       \n",
    "\n",
    "        output.append(person + [str(project_group)]) "
   ]
  },
  {
   "cell_type": "code",
   "execution_count": null,
   "metadata": {},
   "outputs": [],
   "source": [
    "# Checking for outliers\n",
    "\n",
    "n = 0\n",
    "avg_gpas = []\n",
    "for i in range(0, len(output)-group_size, group_size):\n",
    "    male = sum([1 for j in output[i:i+group_size] if j[4] == \"Male\"])\n",
    "    female = sum([1 for j in output[i:i+group_size] if j[4] == \"Female\"])\n",
    "    avg_gpas.append(sum([float(j[5]) for j in output[i:i+group_size]])/group_size)\n",
    "\n",
    "    sch_dist = dict()\n",
    "    for j in set([i[2] for i in output[i:i+group_size]]):\n",
    "        count = [i[2] for i in output[i:i+group_size]].count(j)\n",
    "        sch_dist[j] = count\n",
    "\n",
    "    if output[i][0] in [\"G-114\"]:\n",
    "        print(male, female)\n",
    "    if male > 4:\n",
    "        n += 1\n",
    "        print(output[i][0], male, female, avg)\n",
    "        print()\n",
    "    elif female > 4:\n",
    "        n+= 1\n",
    "        print(output[i][0], male, female, avg)\n",
    "        print()\n",
    "avg_grp = sum(avg_gpas)/1200\n",
    "sd = (sum((i - avg_grp) for i in avg_gpas)/(1200))**(0.5)\n",
    "print(sd)\n",
    "print(n) "
   ]
  },
  {
   "cell_type": "code",
   "execution_count": null,
   "metadata": {},
   "outputs": [],
   "source": [
    "with open(\"out.txt\", \"w\") as f:\n",
    "    f.write(\",\".join(header) + \"\\n\")\n",
    "    for i in output:\n",
    "        f.write(\",\".join(i) + \"\\n\")"
   ]
  }
 ],
 "metadata": {
  "language_info": {
   "name": "python"
  }
 },
 "nbformat": 4,
 "nbformat_minor": 2
}
